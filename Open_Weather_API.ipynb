{
  "nbformat": 4,
  "nbformat_minor": 0,
  "metadata": {
    "colab": {
      "provenance": [],
      "authorship_tag": "ABX9TyNIN4NejBBLhrPJoVjbysTS",
      "include_colab_link": true
    },
    "kernelspec": {
      "name": "python3",
      "display_name": "Python 3"
    },
    "language_info": {
      "name": "python"
    }
  },
  "cells": [
    {
      "cell_type": "markdown",
      "metadata": {
        "id": "view-in-github",
        "colab_type": "text"
      },
      "source": [
        "<a href=\"https://colab.research.google.com/github/GlenLuiz/FIAP/blob/main/Open_Weather_API.ipynb\" target=\"_parent\"><img src=\"https://colab.research.google.com/assets/colab-badge.svg\" alt=\"Open In Colab\"/></a>"
      ]
    },
    {
      "cell_type": "markdown",
      "source": [
        "# Consumindo a API do OPEN WEATHER\n",
        "\n",
        "OpenWeatherMap é um serviço online, de propriedade da OpenWeather Ltd, que fornece dados meteorológicos globais via API, incluindo dados meteorológicos atuais, previsões, previsões e dados meteorológicos históricos para qualquer localização geográfica\n",
        "\n",
        "https://openweathermap.org/\n",
        "\n",
        "\n"
      ],
      "metadata": {
        "id": "QLmc9l-wk9tK"
      }
    },
    {
      "cell_type": "markdown",
      "source": [
        "## Exercício\n",
        "\n",
        "Consuma a API OPEN WEATHER de uma cidade que comece com a mesma letra do seu nome, normalize a saida para que seja amigavel para o usuário, e converta as unidades para os padrões que usamos no Brasil.\n",
        "\n",
        "Para isso consulte a documentação do openweather, doc da biblioteca \"requests\" do python e materiais onlines\n",
        "\n",
        "Após terminar o exercicio, disponibilize um link do **github** em um repositorio da sua escolha para a correção\n",
        "\n",
        "*Arquivo > Salvar uma cópia no Github*\n",
        "\n",
        "Insira seu nome e RM abaixo"
      ],
      "metadata": {
        "id": "qPrM1XR3lcsx"
      }
    },
    {
      "cell_type": "code",
      "source": [
        "nome = input('Insira seu nome: ')\n",
        "rm = input('Insira seu rm: ')"
      ],
      "metadata": {
        "colab": {
          "base_uri": "https://localhost:8080/"
        },
        "id": "vv5aH-8pmZLx",
        "outputId": "d1399935-b5b1-4865-9ed6-13e9755cf5f9"
      },
      "execution_count": 31,
      "outputs": [
        {
          "name": "stdout",
          "output_type": "stream",
          "text": [
            "Insira seu nome: Glen\n",
            "Insira seu rm: 999999\n"
          ]
        }
      ]
    },
    {
      "cell_type": "markdown",
      "source": [
        "# Utilize a **Current weather data** para acessar o clima local da cidade\n",
        "\n",
        "Exemplo de endpoint utilizado na doc da api\n",
        "\n",
        "https://api.openweathermap.org/data/2.5/weather?lat={lat}&lon={lon}&appid={API_key}"
      ],
      "metadata": {
        "id": "2LcLA-zQnpmJ"
      }
    },
    {
      "cell_type": "code",
      "source": [
        "#Lembre-se de importar a biblioteca\n",
        "import requests"
      ],
      "metadata": {
        "id": "gDeBIuvpwSWo"
      },
      "execution_count": 32,
      "outputs": []
    },
    {
      "cell_type": "code",
      "execution_count": 44,
      "metadata": {
        "colab": {
          "base_uri": "https://localhost:8080/"
        },
        "id": "oT2RcDkNkpDi",
        "outputId": "9cae92fa-9d78-4d51-9cff-1fb86ddbf2e0"
      },
      "outputs": [
        {
          "output_type": "execute_result",
          "data": {
            "text/plain": [
              "{'coord': {'lon': -46.6361, 'lat': -23.5475},\n",
              " 'weather': [{'id': 800,\n",
              "   'main': 'Clear',\n",
              "   'description': 'clear sky',\n",
              "   'icon': '01d'}],\n",
              " 'base': 'stations',\n",
              " 'main': {'temp': 301.35,\n",
              "  'feels_like': 302.78,\n",
              "  'temp_min': 300.9,\n",
              "  'temp_max': 302.29,\n",
              "  'pressure': 1020,\n",
              "  'humidity': 59},\n",
              " 'visibility': 10000,\n",
              " 'wind': {'speed': 4.12, 'deg': 270},\n",
              " 'clouds': {'all': 0},\n",
              " 'dt': 1679667900,\n",
              " 'sys': {'type': 1,\n",
              "  'id': 8394,\n",
              "  'country': 'BR',\n",
              "  'sunrise': 1679649094,\n",
              "  'sunset': 1679692447},\n",
              " 'timezone': -10800,\n",
              " 'id': 3448439,\n",
              " 'name': 'São Paulo',\n",
              " 'cod': 200}"
            ]
          },
          "metadata": {},
          "execution_count": 44
        }
      ],
      "source": [
        "API_KEY = \"17daba97d38ff0c553fd89d0a7ec2031\"\n",
        "cidade = \"sao paulo\"\n",
        "endpoint = f\"https://api.openweathermap.org/data/2.5/weather?q={cidade}&appid=17daba97d38ff0c553fd89d0a7ec2031\"\n",
        "\n",
        "\n",
        "requisicao = requests.get(endpoint)\n",
        "resposta = requisicao.json()\n",
        "resposta\n"
      ]
    },
    {
      "cell_type": "markdown",
      "source": [
        "A saida da sua API deve conter 2 informações essenciais:\n",
        "\n",
        "\n",
        "\n",
        "1.   Descrição ( description )\n",
        "2.   Temperatura em Celsius ( temp )\n",
        "\n",
        "Insira abaixo a saida normalizada:\n"
      ],
      "metadata": {
        "id": "01EQXOH_oekh"
      }
    },
    {
      "cell_type": "code",
      "source": [
        "desc = resposta['weather'][0]['description']\n",
        "temp = resposta['main']['temp']\n",
        "\n",
        "print(desc, temp)\n"
      ],
      "metadata": {
        "colab": {
          "base_uri": "https://localhost:8080/"
        },
        "id": "gD0e0T8YtyEB",
        "outputId": "5cac2174-f6fc-41b5-f94f-b50d21ef0b59"
      },
      "execution_count": 45,
      "outputs": [
        {
          "output_type": "stream",
          "name": "stdout",
          "text": [
            "clear sky 301.35\n"
          ]
        }
      ]
    },
    {
      "cell_type": "code",
      "source": [
        "temp_c = temp - 273.15\n",
        "temp_c"
      ],
      "metadata": {
        "colab": {
          "base_uri": "https://localhost:8080/"
        },
        "id": "5aIfArEAufCo",
        "outputId": "7cd0efc7-68a9-4682-9d87-2be5070f8dea"
      },
      "execution_count": 47,
      "outputs": [
        {
          "output_type": "execute_result",
          "data": {
            "text/plain": [
              "28.200000000000045"
            ]
          },
          "metadata": {},
          "execution_count": 47
        }
      ]
    }
  ]
}