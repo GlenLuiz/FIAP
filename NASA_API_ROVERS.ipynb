{
  "nbformat": 4,
  "nbformat_minor": 0,
  "metadata": {
    "colab": {
      "provenance": [],
      "authorship_tag": "ABX9TyNrfXNoaKPolN/vDDgQ9tqv",
      "include_colab_link": true
    },
    "kernelspec": {
      "name": "python3",
      "display_name": "Python 3"
    },
    "language_info": {
      "name": "python"
    }
  },
  "cells": [
    {
      "cell_type": "markdown",
      "metadata": {
        "id": "view-in-github",
        "colab_type": "text"
      },
      "source": [
        "<a href=\"https://colab.research.google.com/github/GlenLuiz/FIAP/blob/main/NASA_API_ROVERS.ipynb\" target=\"_parent\"><img src=\"https://colab.research.google.com/assets/colab-badge.svg\" alt=\"Open In Colab\"/></a>"
      ]
    },
    {
      "cell_type": "markdown",
      "source": [
        "#Consumindo API Rovers da NASA \n",
        "\n",
        "\n",
        "Documentação NASA\n",
        "\n",
        "https://api.nasa.gov/\n",
        "\n",
        "\n",
        "\n",
        "\n",
        "Documentação de Apoio Python\n",
        "\n",
        "https://pypi.org/\n"
      ],
      "metadata": {
        "id": "YuciWh1vI41S"
      }
    },
    {
      "cell_type": "markdown",
      "source": [
        "# Esta Atividade tem 4 objetivos de aprendizagem\n",
        "\n",
        "\n",
        "\n",
        "*   Entender como funciona e consumir uma API\n",
        "*   Leitura de Documentação\n",
        "*   Manipular JSON\n",
        "*   Entender o que é um erro, e como trata-lo\n",
        "\n",
        "\n",
        "\n",
        "\n"
      ],
      "metadata": {
        "id": "A-uCvAa4mbXc"
      }
    },
    {
      "cell_type": "markdown",
      "source": [
        "O dois ultimos dígitos do seu RM vai definir qual camera você utilizará\n",
        "\n",
        "EXEMPLO:\n",
        "\n",
        " RM 09329***3***5\n",
        "\n",
        " o \"3\" em destaque acima, significa a camera que irá usar na API\n",
        "\n",
        " No caso abaixo, iremos usar o RHAZ neste exemplo"
      ],
      "metadata": {
        "id": "8iqytiaAGYQ6"
      }
    },
    {
      "cell_type": "markdown",
      "source": [
        "0, 1 - **FHAZ** -\tFront Hazard Avoidance Camera\n",
        "\n",
        "2 , 3 - **RHAZ** - \tRear Hazard Avoidance Camera\n",
        "\n",
        "4 - **MAST** - \tMast Camera\n",
        "\n",
        "5 - **CHEMCAM**\t- Chemistry and Camera Complex\n",
        "\n",
        "6 - **MAHLI** -\tMars Hand Lens Imager\n",
        "\n",
        "7 - **MARDI**\t- Mars Descent Imager\n",
        "\n",
        "8 - **NAVCAM** - Navigation CameraPANCAM\tPanoramic Camera\n",
        "\n",
        "9 - **MINITES** - Miniature Thermal Emission Spectrometer (Mini-TES)"
      ],
      "metadata": {
        "id": "PQ4FpRdUDSuj"
      }
    },
    {
      "cell_type": "markdown",
      "source": [
        " RA 093293***5***\n",
        "\n",
        " o \"5\" em destaque acima, acrescido de um 0 (zero) ao final, significa o parametro sol que irá usar\n",
        "\n",
        " ou seja:\n",
        "\n",
        " 5 = 50\n",
        "\n",
        " 3 = 30\n",
        " \n",
        " 4 = 40 \n",
        "\n",
        "e assim sucessivamente:"
      ],
      "metadata": {
        "id": "qEDm--dEGW9p"
      }
    },
    {
      "cell_type": "markdown",
      "source": [
        "Caso exista mais de um, o Rover é de livre escolha dentre os parametros definidos no seu RM"
      ],
      "metadata": {
        "id": "61oxxzz0HptD"
      }
    },
    {
      "cell_type": "markdown",
      "source": [
        "## Faça retornar a resposta da API com os parametros segundo as orientações\n",
        " \n",
        "\n"
      ],
      "metadata": {
        "id": "pfRUszesIq7a"
      }
    },
    {
      "cell_type": "code",
      "source": [
        "import requests"
      ],
      "metadata": {
        "id": "u4u-V7Un03LS"
      },
      "execution_count": 4,
      "outputs": []
    },
    {
      "cell_type": "code",
      "source": [
        "x = requests.get(\"https://api.nasa.gov/mars-photos/api/v1/rovers/opportunity/photos?sol=90&camera=FHAZ&api_key=AGzgcxiQO1WGA0VPdRYN418paCGZ704Y5QGlbVq3\")\n",
        "x.json()"
      ],
      "metadata": {
        "id": "JVR-0wgsJDx5",
        "outputId": "74f1a63a-f165-419e-89c9-5467c5cd5d42",
        "colab": {
          "base_uri": "https://localhost:8080/"
        }
      },
      "execution_count": 19,
      "outputs": [
        {
          "output_type": "execute_result",
          "data": {
            "text/plain": [
              "{'photos': [{'id': 118362,\n",
              "   'sol': 90,\n",
              "   'camera': {'id': 14,\n",
              "    'name': 'FHAZ',\n",
              "    'rover_id': 6,\n",
              "    'full_name': 'Front Hazard Avoidance Camera'},\n",
              "   'img_src': 'http://mars.nasa.gov/mer/gallery/all/1/f/090/1F136189091EDN1500P1121L0M1-BR.JPG',\n",
              "   'earth_date': '2004-04-26',\n",
              "   'rover': {'id': 6,\n",
              "    'name': 'Opportunity',\n",
              "    'landing_date': '2004-01-25',\n",
              "    'launch_date': '2003-07-07',\n",
              "    'status': 'complete'}},\n",
              "  {'id': 118363,\n",
              "   'sol': 90,\n",
              "   'camera': {'id': 14,\n",
              "    'name': 'FHAZ',\n",
              "    'rover_id': 6,\n",
              "    'full_name': 'Front Hazard Avoidance Camera'},\n",
              "   'img_src': 'http://mars.nasa.gov/mer/gallery/all/1/f/090/1F136189091EDN1500P1121R0M1-BR.JPG',\n",
              "   'earth_date': '2004-04-26',\n",
              "   'rover': {'id': 6,\n",
              "    'name': 'Opportunity',\n",
              "    'landing_date': '2004-01-25',\n",
              "    'launch_date': '2003-07-07',\n",
              "    'status': 'complete'}}]}"
            ]
          },
          "metadata": {},
          "execution_count": 19
        }
      ]
    },
    {
      "cell_type": "markdown",
      "source": [
        "## Manipule o Json para que apenas o link da imagem apareça na resposta"
      ],
      "metadata": {
        "id": "dJ7Txo-JnUSd"
      }
    },
    {
      "cell_type": "code",
      "source": [
        "x = requests.get(\"https://api.nasa.gov/mars-photos/api/v1/rovers/opportunity/photos?sol=90&camera=FHAZ&api_key=AGzgcxiQO1WGA0VPdRYN418paCGZ704Y5QGlbVq3\")\n",
        "resposta = x.json()\n",
        "resposta['photos'][0]['img_src']\n"
      ],
      "metadata": {
        "id": "J5aRvR7NncbN",
        "outputId": "5241fc54-d275-462f-cab4-9c42c9b979fc",
        "colab": {
          "base_uri": "https://localhost:8080/",
          "height": 35
        }
      },
      "execution_count": 32,
      "outputs": [
        {
          "output_type": "execute_result",
          "data": {
            "text/plain": [
              "'http://mars.nasa.gov/mer/gallery/all/1/f/090/1F136189091EDN1500P1121L0M1-BR.JPG'"
            ],
            "application/vnd.google.colaboratory.intrinsic+json": {
              "type": "string"
            }
          },
          "metadata": {},
          "execution_count": 32
        }
      ]
    }
  ]
}