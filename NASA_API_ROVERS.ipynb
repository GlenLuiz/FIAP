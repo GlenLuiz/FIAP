{
  "nbformat": 4,
  "nbformat_minor": 0,
  "metadata": {
    "colab": {
      "provenance": []
    },
    "kernelspec": {
      "name": "python3",
      "display_name": "Python 3"
    },
    "language_info": {
      "name": "python"
    }
  },
  "cells": [
    {
      "cell_type": "markdown",
      "source": [
        "#Consumindo API Rovers da NASA \n",
        "\n",
        "https://api.nasa.gov/\n",
        "\n"
      ],
      "metadata": {
        "id": "YuciWh1vI41S"
      }
    },
    {
      "cell_type": "markdown",
      "source": [
        "# Esta Atividade tem 3 objetivos de aprendizagem\n",
        "\n",
        "\n",
        "\n",
        "*   Entender como funciona e consumir uma API\n",
        "*   Manipular JSON\n",
        "*   Entender o que é um erro, e como trata-lo\n",
        "\n",
        "\n",
        "\n",
        "\n"
      ],
      "metadata": {
        "id": "A-uCvAa4mbXc"
      }
    },
    {
      "cell_type": "markdown",
      "source": [
        "O dois ultimos dígitos do seu RM vai definir qual camera você utilizará\n",
        "\n",
        "EXEMPLO:\n",
        "\n",
        " RA 09329***3***5\n",
        "\n",
        " o \"3\" em destaque acima, significa a camera que irá usar na API\n",
        "\n",
        " No caso abaixo, iremos usar o RHAZ neste exemplo"
      ],
      "metadata": {
        "id": "8iqytiaAGYQ6"
      }
    },
    {
      "cell_type": "markdown",
      "source": [
        "0, 1 - **FHAZ** -\tFront Hazard Avoidance Camera\n",
        "\n",
        "2 , 3 - **RHAZ** - \tRear Hazard Avoidance Camera\n",
        "\n",
        "4 - **MAST** - \tMast Camera\n",
        "\n",
        "5 - **CHEMCAM**\t- Chemistry and Camera Complex\n",
        "\n",
        "6 - **MAHLI** -\tMars Hand Lens Imager\n",
        "\n",
        "7 - **MARDI**\t- Mars Descent Imager\n",
        "\n",
        "8 - **NAVCAM** - Navigation CameraPANCAM\tPanoramic Camera\n",
        "\n",
        "9 - **MINITES** - Miniature Thermal Emission Spectrometer (Mini-TES)"
      ],
      "metadata": {
        "id": "PQ4FpRdUDSuj"
      }
    },
    {
      "cell_type": "markdown",
      "source": [
        " RA 093293***5***\n",
        "\n",
        " o \"5\" em destaque acima, acrescido de um 0 (zero) ao final, significa o parametro sol que irá usar\n",
        "\n",
        " ou seja:\n",
        "\n",
        " 5 = 50\n",
        "\n",
        " 3 = 30\n",
        " \n",
        " 4 = 40 \n",
        "\n",
        "e assim sucessivamente:"
      ],
      "metadata": {
        "id": "qEDm--dEGW9p"
      }
    },
    {
      "cell_type": "markdown",
      "source": [
        "Caso exista mais de um, o Rover é de livre escolha dentre os parametros definidos no seu RM"
      ],
      "metadata": {
        "id": "61oxxzz0HptD"
      }
    },
    {
      "cell_type": "markdown",
      "source": [
        "## Faça retornar a resposta da API com os parametros segundo as orientações\n",
        " \n",
        "\n"
      ],
      "metadata": {
        "id": "pfRUszesIq7a"
      }
    },
    {
      "cell_type": "code",
      "source": [],
      "metadata": {
        "id": "JVR-0wgsJDx5"
      },
      "execution_count": null,
      "outputs": []
    },
    {
      "cell_type": "markdown",
      "source": [
        "## Manipule o Json para que apenas o link da imagem apareça na resposta"
      ],
      "metadata": {
        "id": "dJ7Txo-JnUSd"
      }
    },
    {
      "cell_type": "code",
      "source": [],
      "metadata": {
        "id": "J5aRvR7NncbN"
      },
      "execution_count": null,
      "outputs": []
    }
  ]
}