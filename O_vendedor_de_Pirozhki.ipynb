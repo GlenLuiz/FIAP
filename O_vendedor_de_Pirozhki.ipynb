{
  "nbformat": 4,
  "nbformat_minor": 0,
  "metadata": {
    "colab": {
      "provenance": [],
      "authorship_tag": "ABX9TyMnU5n1q/cTyRMT6BWHBjFs",
      "include_colab_link": true
    },
    "kernelspec": {
      "name": "python3",
      "display_name": "Python 3"
    },
    "language_info": {
      "name": "python"
    }
  },
  "cells": [
    {
      "cell_type": "markdown",
      "metadata": {
        "id": "view-in-github",
        "colab_type": "text"
      },
      "source": [
        "<a href=\"https://colab.research.google.com/github/GlenLuiz/FIAP/blob/main/O_vendedor_de_Pirozhki.ipynb\" target=\"_parent\"><img src=\"https://colab.research.google.com/assets/colab-badge.svg\" alt=\"Open In Colab\"/></a>"
      ]
    },
    {
      "cell_type": "markdown",
      "source": [
        "# CASE: O vendedor de Pirozhki\n",
        "\n",
        "\n",
        "Vladimir Sidorov desistiu de seu trabalho convencional na KGB e decidiu empreender em 2010 no ramo alimentício. Com suas economias abriu um foodtruck no bairro do Ipiranga – SP especializado na venda de Pirozhki, onde seu grande diferencial era trabalhar com ingredientes importados dando uma qualidade extraordinária ao produto. Após o crescimento das vendas, a modalidade delivery foi implementada para auxiliar a empresa. Vladimir era extremamente popular no bairro, todos o conheciam, mas em 2019 se mudou para um ponto melhor e não tivemos mais notícia. Os últimos dados compartilhados das vendas de Vlad foram disponibilizados antes de sua partida.\n"
      ],
      "metadata": {
        "id": "HXZSC_Ob3Zrd"
      }
    },
    {
      "cell_type": "code",
      "source": [
        "\n",
        "Ano\tvendas\n",
        "2010\t723\n",
        "2011\t814\n",
        "2012\t905\n",
        "2014\t1087\n",
        "2017\t1360\n",
        "2018\t1451\n",
        "2019\t1542\n"
      ],
      "metadata": {
        "id": "H6qSt8nv3de1"
      },
      "execution_count": null,
      "outputs": []
    },
    {
      "cell_type": "markdown",
      "source": [
        "\n",
        "\n",
        "1.   Dado o problema acima, qual o melhor algoritmo para descobrir os dados de 2015?\n",
        "2.   Qual coeficiente angular?\n",
        "3.   Considerando uma perspectiva estatística, qual o total de venda em 2020 (Apresentar valores)?\n",
        "4. Considerando uma perspectiva estatística, qual o total de venda em 2021 (Apresentar valores)?\n",
        "5. Desenvolva um código em python que calcule estatisticamente as vendas em qualquer ano desejado\n",
        "6. Considerando sua opinião, qual o total de venda em 2021?\n",
        "7. Considerando sua opinião, qual o total de venda em 2023?\n",
        "\n"
      ],
      "metadata": {
        "id": "jmbpy-k73f90"
      }
    },
    {
      "cell_type": "markdown",
      "source": [
        "*   Nome:  \n",
        "*   RM:\n",
        "*   Nome:  \n",
        "*   RM:\n",
        "\n",
        "\n"
      ],
      "metadata": {
        "id": "Wi9_DVhq34pT"
      }
    }
  ]
}